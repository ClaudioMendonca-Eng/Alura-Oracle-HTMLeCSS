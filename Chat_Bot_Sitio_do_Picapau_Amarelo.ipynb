{
  "nbformat": 4,
  "nbformat_minor": 0,
  "metadata": {
    "colab": {
      "provenance": [],
      "authorship_tag": "ABX9TyP+S7oyPOXIOlvj5b/oCISI",
      "include_colab_link": true
    },
    "kernelspec": {
      "name": "python3",
      "display_name": "Python 3"
    },
    "language_info": {
      "name": "python"
    }
  },
  "cells": [
    {
      "cell_type": "markdown",
      "metadata": {
        "id": "view-in-github",
        "colab_type": "text"
      },
      "source": [
        "<a href=\"https://colab.research.google.com/github/ClaudioMendonca-Eng/Alura-Oracle-HTMLeCSS/blob/main/Chat_Bot_Sitio_do_Picapau_Amarelo.ipynb\" target=\"_parent\"><img src=\"https://colab.research.google.com/assets/colab-badge.svg\" alt=\"Open In Colab\"/></a>"
      ]
    },
    {
      "cell_type": "markdown",
      "source": [
        "## Instalando o SDK do Google Gemini"
      ],
      "metadata": {
        "id": "dnQzpOPqwrR3"
      }
    },
    {
      "cell_type": "code",
      "execution_count": 1,
      "metadata": {
        "id": "YeM9DgpEmbcd"
      },
      "outputs": [],
      "source": [
        "!pip install -q -U google-generativeai"
      ]
    },
    {
      "cell_type": "code",
      "source": [
        "#@markdown <br><center><img src='https://upload.wikimedia.org/wikipedia/commons/thumb/4/45/Gemini_language_model_logo.png/200px-Gemini_language_model_logo.png' height=\"50\" alt=\"Gemini-logo\"/></center>\n",
        "#@markdown <center><h3>Insira a sua API Key</h3></center><br>\n",
        "KEY = \"Inserir API Key aqui\" # @param {type:\"string\"}\n",
        "#API Key conectada!\n",
        "import google.generativeai as genai\n",
        "\n",
        "GOOGLE_API_KEY= KEY\n",
        "genai.configure(api_key=GOOGLE_API_KEY)"
      ],
      "metadata": {
        "id": "xDQXBO79w5Vp"
      },
      "execution_count": 10,
      "outputs": []
    }
  ]
}